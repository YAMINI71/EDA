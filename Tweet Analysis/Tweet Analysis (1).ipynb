{
 "cells": [
  {
   "cell_type": "markdown",
   "metadata": {},
   "source": [
    "# Tweet Analysis \n",
    "\n",
    "Given a tweets dataset, perform EDA and find:\n",
    " >Common emotions/words used by males and females <br>\n",
    " >The gender that makes more typos than the other\n",
    "\n",
    "<b> Exploratory Data Analysis || Data Cleaning || Data Visualization || Feature selection and Feature Engineering </b>\n",
    "\n",
    "\n",
    "#### Summary of Answers: <br>\n",
    ">    Common words used by males: get, one, new , go, good <br>\n",
    "     Common words used by females: like, one, day, time, people <br> \n",
    "     Gender that makes more typos - Female\n",
    "\n",
    " "
   ]
  },
  {
   "cell_type": "code",
   "execution_count": 1,
   "metadata": {},
   "outputs": [],
   "source": [
    "#Importing libraries\n",
    "\n",
    "import pandas as pd\n",
    "import numpy as np"
   ]
  },
  {
   "cell_type": "code",
   "execution_count": 2,
   "metadata": {},
   "outputs": [
    {
     "data": {
      "text/html": [
       "<div>\n",
       "<style scoped>\n",
       "    .dataframe tbody tr th:only-of-type {\n",
       "        vertical-align: middle;\n",
       "    }\n",
       "\n",
       "    .dataframe tbody tr th {\n",
       "        vertical-align: top;\n",
       "    }\n",
       "\n",
       "    .dataframe thead th {\n",
       "        text-align: right;\n",
       "    }\n",
       "</style>\n",
       "<table border=\"1\" class=\"dataframe\">\n",
       "  <thead>\n",
       "    <tr style=\"text-align: right;\">\n",
       "      <th></th>\n",
       "      <th>_golden</th>\n",
       "      <th>_unit_state</th>\n",
       "      <th>_trusted_judgments</th>\n",
       "      <th>_last_judgment_at</th>\n",
       "      <th>gender</th>\n",
       "      <th>gender:confidence</th>\n",
       "      <th>profile_yn</th>\n",
       "      <th>profile_yn:confidence</th>\n",
       "      <th>created</th>\n",
       "      <th>description</th>\n",
       "      <th>...</th>\n",
       "      <th>profileimage</th>\n",
       "      <th>retweet_count</th>\n",
       "      <th>sidebar_color</th>\n",
       "      <th>text</th>\n",
       "      <th>tweet_coord</th>\n",
       "      <th>tweet_count</th>\n",
       "      <th>tweet_created</th>\n",
       "      <th>tweet_id</th>\n",
       "      <th>tweet_location</th>\n",
       "      <th>user_timezone</th>\n",
       "    </tr>\n",
       "    <tr>\n",
       "      <th>_unit_id</th>\n",
       "      <th></th>\n",
       "      <th></th>\n",
       "      <th></th>\n",
       "      <th></th>\n",
       "      <th></th>\n",
       "      <th></th>\n",
       "      <th></th>\n",
       "      <th></th>\n",
       "      <th></th>\n",
       "      <th></th>\n",
       "      <th></th>\n",
       "      <th></th>\n",
       "      <th></th>\n",
       "      <th></th>\n",
       "      <th></th>\n",
       "      <th></th>\n",
       "      <th></th>\n",
       "      <th></th>\n",
       "      <th></th>\n",
       "      <th></th>\n",
       "      <th></th>\n",
       "    </tr>\n",
       "  </thead>\n",
       "  <tbody>\n",
       "    <tr>\n",
       "      <th>815719226</th>\n",
       "      <td>False</td>\n",
       "      <td>finalized</td>\n",
       "      <td>3</td>\n",
       "      <td>10/26/15 23:24</td>\n",
       "      <td>male</td>\n",
       "      <td>1.0000</td>\n",
       "      <td>yes</td>\n",
       "      <td>1.0</td>\n",
       "      <td>12/5/13 1:48</td>\n",
       "      <td>i sing my own rhythm.</td>\n",
       "      <td>...</td>\n",
       "      <td>https://pbs.twimg.com/profile_images/414342229...</td>\n",
       "      <td>0</td>\n",
       "      <td>FFFFFF</td>\n",
       "      <td>Robbie E Responds To Critics After Win Against...</td>\n",
       "      <td>NaN</td>\n",
       "      <td>110964</td>\n",
       "      <td>10/26/15 12:40</td>\n",
       "      <td>6.587300e+17</td>\n",
       "      <td>main; @Kan1shk3</td>\n",
       "      <td>Chennai</td>\n",
       "    </tr>\n",
       "    <tr>\n",
       "      <th>815719227</th>\n",
       "      <td>False</td>\n",
       "      <td>finalized</td>\n",
       "      <td>3</td>\n",
       "      <td>10/26/15 23:30</td>\n",
       "      <td>male</td>\n",
       "      <td>1.0000</td>\n",
       "      <td>yes</td>\n",
       "      <td>1.0</td>\n",
       "      <td>10/1/12 13:51</td>\n",
       "      <td>I'm the author of novels filled with family dr...</td>\n",
       "      <td>...</td>\n",
       "      <td>https://pbs.twimg.com/profile_images/539604221...</td>\n",
       "      <td>0</td>\n",
       "      <td>C0DEED</td>\n",
       "      <td>ÛÏIt felt like they were my friends and I was...</td>\n",
       "      <td>NaN</td>\n",
       "      <td>7471</td>\n",
       "      <td>10/26/15 12:40</td>\n",
       "      <td>6.587300e+17</td>\n",
       "      <td>NaN</td>\n",
       "      <td>Eastern Time (US &amp; Canada)</td>\n",
       "    </tr>\n",
       "    <tr>\n",
       "      <th>815719228</th>\n",
       "      <td>False</td>\n",
       "      <td>finalized</td>\n",
       "      <td>3</td>\n",
       "      <td>10/26/15 23:33</td>\n",
       "      <td>male</td>\n",
       "      <td>0.6625</td>\n",
       "      <td>yes</td>\n",
       "      <td>1.0</td>\n",
       "      <td>11/28/14 11:30</td>\n",
       "      <td>louis whining and squealing and all</td>\n",
       "      <td>...</td>\n",
       "      <td>https://pbs.twimg.com/profile_images/657330418...</td>\n",
       "      <td>1</td>\n",
       "      <td>C0DEED</td>\n",
       "      <td>i absolutely adore when louis starts the songs...</td>\n",
       "      <td>NaN</td>\n",
       "      <td>5617</td>\n",
       "      <td>10/26/15 12:40</td>\n",
       "      <td>6.587300e+17</td>\n",
       "      <td>clcncl</td>\n",
       "      <td>Belgrade</td>\n",
       "    </tr>\n",
       "    <tr>\n",
       "      <th>815719229</th>\n",
       "      <td>False</td>\n",
       "      <td>finalized</td>\n",
       "      <td>3</td>\n",
       "      <td>10/26/15 23:10</td>\n",
       "      <td>male</td>\n",
       "      <td>1.0000</td>\n",
       "      <td>yes</td>\n",
       "      <td>1.0</td>\n",
       "      <td>6/11/09 22:39</td>\n",
       "      <td>Mobile guy.  49ers, Shazam, Google, Kleiner Pe...</td>\n",
       "      <td>...</td>\n",
       "      <td>https://pbs.twimg.com/profile_images/259703936...</td>\n",
       "      <td>0</td>\n",
       "      <td>C0DEED</td>\n",
       "      <td>Hi @JordanSpieth - Looking at the url - do you...</td>\n",
       "      <td>NaN</td>\n",
       "      <td>1693</td>\n",
       "      <td>10/26/15 12:40</td>\n",
       "      <td>6.587300e+17</td>\n",
       "      <td>Palo Alto, CA</td>\n",
       "      <td>Pacific Time (US &amp; Canada)</td>\n",
       "    </tr>\n",
       "    <tr>\n",
       "      <th>815719230</th>\n",
       "      <td>False</td>\n",
       "      <td>finalized</td>\n",
       "      <td>3</td>\n",
       "      <td>10/27/15 1:15</td>\n",
       "      <td>female</td>\n",
       "      <td>1.0000</td>\n",
       "      <td>yes</td>\n",
       "      <td>1.0</td>\n",
       "      <td>4/16/14 13:23</td>\n",
       "      <td>Ricky Wilson The Best FRONTMAN/Kaiser Chiefs T...</td>\n",
       "      <td>...</td>\n",
       "      <td>https://pbs.twimg.com/profile_images/564094871...</td>\n",
       "      <td>0</td>\n",
       "      <td>0</td>\n",
       "      <td>Watching Neighbours on Sky+ catching up with t...</td>\n",
       "      <td>NaN</td>\n",
       "      <td>31462</td>\n",
       "      <td>10/26/15 12:40</td>\n",
       "      <td>6.587300e+17</td>\n",
       "      <td>NaN</td>\n",
       "      <td>NaN</td>\n",
       "    </tr>\n",
       "  </tbody>\n",
       "</table>\n",
       "<p>5 rows × 25 columns</p>\n",
       "</div>"
      ],
      "text/plain": [
       "           _golden _unit_state  _trusted_judgments _last_judgment_at  gender  \\\n",
       "_unit_id                                                                       \n",
       "815719226    False   finalized                   3    10/26/15 23:24    male   \n",
       "815719227    False   finalized                   3    10/26/15 23:30    male   \n",
       "815719228    False   finalized                   3    10/26/15 23:33    male   \n",
       "815719229    False   finalized                   3    10/26/15 23:10    male   \n",
       "815719230    False   finalized                   3     10/27/15 1:15  female   \n",
       "\n",
       "           gender:confidence profile_yn  profile_yn:confidence  \\\n",
       "_unit_id                                                         \n",
       "815719226             1.0000        yes                    1.0   \n",
       "815719227             1.0000        yes                    1.0   \n",
       "815719228             0.6625        yes                    1.0   \n",
       "815719229             1.0000        yes                    1.0   \n",
       "815719230             1.0000        yes                    1.0   \n",
       "\n",
       "                  created                                        description  \\\n",
       "_unit_id                                                                       \n",
       "815719226    12/5/13 1:48                              i sing my own rhythm.   \n",
       "815719227   10/1/12 13:51  I'm the author of novels filled with family dr...   \n",
       "815719228  11/28/14 11:30                louis whining and squealing and all   \n",
       "815719229   6/11/09 22:39  Mobile guy.  49ers, Shazam, Google, Kleiner Pe...   \n",
       "815719230   4/16/14 13:23  Ricky Wilson The Best FRONTMAN/Kaiser Chiefs T...   \n",
       "\n",
       "           ...                                       profileimage  \\\n",
       "_unit_id   ...                                                      \n",
       "815719226  ...  https://pbs.twimg.com/profile_images/414342229...   \n",
       "815719227  ...  https://pbs.twimg.com/profile_images/539604221...   \n",
       "815719228  ...  https://pbs.twimg.com/profile_images/657330418...   \n",
       "815719229  ...  https://pbs.twimg.com/profile_images/259703936...   \n",
       "815719230  ...  https://pbs.twimg.com/profile_images/564094871...   \n",
       "\n",
       "          retweet_count sidebar_color  \\\n",
       "_unit_id                                \n",
       "815719226             0        FFFFFF   \n",
       "815719227             0        C0DEED   \n",
       "815719228             1        C0DEED   \n",
       "815719229             0        C0DEED   \n",
       "815719230             0             0   \n",
       "\n",
       "                                                        text tweet_coord  \\\n",
       "_unit_id                                                                   \n",
       "815719226  Robbie E Responds To Critics After Win Against...         NaN   \n",
       "815719227  ÛÏIt felt like they were my friends and I was...         NaN   \n",
       "815719228  i absolutely adore when louis starts the songs...         NaN   \n",
       "815719229  Hi @JordanSpieth - Looking at the url - do you...         NaN   \n",
       "815719230  Watching Neighbours on Sky+ catching up with t...         NaN   \n",
       "\n",
       "          tweet_count   tweet_created      tweet_id   tweet_location  \\\n",
       "_unit_id                                                               \n",
       "815719226      110964  10/26/15 12:40  6.587300e+17  main; @Kan1shk3   \n",
       "815719227        7471  10/26/15 12:40  6.587300e+17              NaN   \n",
       "815719228        5617  10/26/15 12:40  6.587300e+17           clcncl   \n",
       "815719229        1693  10/26/15 12:40  6.587300e+17    Palo Alto, CA   \n",
       "815719230       31462  10/26/15 12:40  6.587300e+17              NaN   \n",
       "\n",
       "                        user_timezone  \n",
       "_unit_id                               \n",
       "815719226                     Chennai  \n",
       "815719227  Eastern Time (US & Canada)  \n",
       "815719228                    Belgrade  \n",
       "815719229  Pacific Time (US & Canada)  \n",
       "815719230                         NaN  \n",
       "\n",
       "[5 rows x 25 columns]"
      ]
     },
     "execution_count": 2,
     "metadata": {},
     "output_type": "execute_result"
    }
   ],
   "source": [
    "#Reading csv\n",
    "\n",
    "df=pd.read_csv(\"Information.csv\", encoding = \"ISO-8859-1\", index_col=0)\n",
    "df.head()"
   ]
  },
  {
   "cell_type": "code",
   "execution_count": 3,
   "metadata": {},
   "outputs": [
    {
     "name": "stdout",
     "output_type": "stream",
     "text": [
      "<class 'pandas.core.frame.DataFrame'>\n",
      "Int64Index: 20050 entries, 815719226 to 815757985\n",
      "Data columns (total 25 columns):\n",
      " #   Column                 Non-Null Count  Dtype  \n",
      "---  ------                 --------------  -----  \n",
      " 0   _golden                20050 non-null  bool   \n",
      " 1   _unit_state            20050 non-null  object \n",
      " 2   _trusted_judgments     20050 non-null  int64  \n",
      " 3   _last_judgment_at      20000 non-null  object \n",
      " 4   gender                 19953 non-null  object \n",
      " 5   gender:confidence      20024 non-null  float64\n",
      " 6   profile_yn             20050 non-null  object \n",
      " 7   profile_yn:confidence  20050 non-null  float64\n",
      " 8   created                20050 non-null  object \n",
      " 9   description            16306 non-null  object \n",
      " 10  fav_number             20050 non-null  int64  \n",
      " 11  gender_gold            50 non-null     object \n",
      " 12  link_color             20050 non-null  object \n",
      " 13  name                   20050 non-null  object \n",
      " 14  profile_yn_gold        50 non-null     object \n",
      " 15  profileimage           20050 non-null  object \n",
      " 16  retweet_count          20050 non-null  int64  \n",
      " 17  sidebar_color          20050 non-null  object \n",
      " 18  text                   20050 non-null  object \n",
      " 19  tweet_coord            159 non-null    object \n",
      " 20  tweet_count            20050 non-null  int64  \n",
      " 21  tweet_created          20050 non-null  object \n",
      " 22  tweet_id               20050 non-null  float64\n",
      " 23  tweet_location         12566 non-null  object \n",
      " 24  user_timezone          12252 non-null  object \n",
      "dtypes: bool(1), float64(3), int64(4), object(17)\n",
      "memory usage: 3.8+ MB\n"
     ]
    }
   ],
   "source": [
    "df.info()"
   ]
  },
  {
   "cell_type": "markdown",
   "metadata": {},
   "source": [
    "##### Correlation Matrix using heatmap"
   ]
  },
  {
   "cell_type": "code",
   "execution_count": 4,
   "metadata": {},
   "outputs": [
    {
     "data": {
      "text/plain": [
       "<matplotlib.axes._subplots.AxesSubplot at 0x1f70a95c490>"
      ]
     },
     "execution_count": 4,
     "metadata": {},
     "output_type": "execute_result"
    },
    {
     "data": {
      "image/png": "[encoded data removed]",
      "text/plain": [
       "<Figure size 432x288 with 2 Axes>"
      ]
     },
     "metadata": {
      "needs_background": "light"
     },
     "output_type": "display_data"
    }
   ],
   "source": [
    "import seaborn as sb\n",
    "sb.heatmap(df.corr(), annot=True)"
   ]
  },
  {
   "cell_type": "markdown",
   "metadata": {},
   "source": [
    "### What are the common words/emotions expressed by each gender?\n",
    "\n",
    "For this question, I've removed rows containing text values other than 'male' or 'female'.\n",
    "#### *Approach:* <br>\n",
    "1. Fetch Columns of interest\n",
    "2. Clean data of unwanted values\n",
    "3. Change index to \"gender\"\n",
    "4. Subset rows with \"males\" and later \"females\" \n",
    "5. Initialize count vectorizer to count number of words (limit stopwords and strings such as http...)\n",
    "6. Compute IDF values. Common words have lower IDF"
   ]
  },
  {
   "cell_type": "markdown",
   "metadata": {},
   "source": [
    "##### *To check common words, we need gender as well as text column*"
   ]
  },
  {
   "cell_type": "code",
   "execution_count": 5,
   "metadata": {},
   "outputs": [
    {
     "name": "stderr",
     "output_type": "stream",
     "text": [
      "C:\\Users\\ADMIN\\anaconda3\\lib\\site-packages\\pandas\\core\\generic.py:6746: SettingWithCopyWarning: \n",
      "A value is trying to be set on a copy of a slice from a DataFrame\n",
      "\n",
      "See the caveats in the documentation: https://pandas.pydata.org/pandas-docs/stable/user_guide/indexing.html#returning-a-view-versus-a-copy\n",
      "  self._update_inplace(new_data)\n"
     ]
    },
    {
     "data": {
      "text/html": [
       "<div>\n",
       "<style scoped>\n",
       "    .dataframe tbody tr th:only-of-type {\n",
       "        vertical-align: middle;\n",
       "    }\n",
       "\n",
       "    .dataframe tbody tr th {\n",
       "        vertical-align: top;\n",
       "    }\n",
       "\n",
       "    .dataframe thead th {\n",
       "        text-align: right;\n",
       "    }\n",
       "</style>\n",
       "<table border=\"1\" class=\"dataframe\">\n",
       "  <thead>\n",
       "    <tr style=\"text-align: right;\">\n",
       "      <th></th>\n",
       "      <th>text</th>\n",
       "      <th>gender</th>\n",
       "    </tr>\n",
       "    <tr>\n",
       "      <th>_unit_id</th>\n",
       "      <th></th>\n",
       "      <th></th>\n",
       "    </tr>\n",
       "  </thead>\n",
       "  <tbody>\n",
       "    <tr>\n",
       "      <th>815719226</th>\n",
       "      <td>Robbie E Responds To Critics After Win Against...</td>\n",
       "      <td>male</td>\n",
       "    </tr>\n",
       "    <tr>\n",
       "      <th>815719227</th>\n",
       "      <td>ÛÏIt felt like they were my friends and I was...</td>\n",
       "      <td>male</td>\n",
       "    </tr>\n",
       "    <tr>\n",
       "      <th>815719228</th>\n",
       "      <td>i absolutely adore when louis starts the songs...</td>\n",
       "      <td>male</td>\n",
       "    </tr>\n",
       "    <tr>\n",
       "      <th>815719229</th>\n",
       "      <td>Hi @JordanSpieth - Looking at the url - do you...</td>\n",
       "      <td>male</td>\n",
       "    </tr>\n",
       "    <tr>\n",
       "      <th>815719230</th>\n",
       "      <td>Watching Neighbours on Sky+ catching up with t...</td>\n",
       "      <td>female</td>\n",
       "    </tr>\n",
       "  </tbody>\n",
       "</table>\n",
       "</div>"
      ],
      "text/plain": [
       "                                                        text  gender\n",
       "_unit_id                                                            \n",
       "815719226  Robbie E Responds To Critics After Win Against...    male\n",
       "815719227  ÛÏIt felt like they were my friends and I was...    male\n",
       "815719228  i absolutely adore when louis starts the songs...    male\n",
       "815719229  Hi @JordanSpieth - Looking at the url - do you...    male\n",
       "815719230  Watching Neighbours on Sky+ catching up with t...  female"
      ]
     },
     "execution_count": 5,
     "metadata": {},
     "output_type": "execute_result"
    }
   ],
   "source": [
    "#Step 1: Fetch Columns of interest\n",
    " \n",
    "df1=df[[\"text\", \"gender\" ]] \n",
    "\n",
    "#Step 2: Clean data of unwanted values\n",
    "\n",
    "df1['gender'].replace('brand', np.nan, inplace=True) #replaces with np.nan\n",
    "df1['gender'].replace('unknown', np.nan, inplace=True) #replaces with np.nan\n",
    "df1=df1.dropna()\n",
    "df1.head()"
   ]
  },
  {
   "cell_type": "markdown",
   "metadata": {},
   "source": [
    "#### Part 1: To find the common words used by MALES"
   ]
  },
  {
   "cell_type": "code",
   "execution_count": 6,
   "metadata": {},
   "outputs": [
    {
     "data": {
      "text/html": [
       "<div>\n",
       "<style scoped>\n",
       "    .dataframe tbody tr th:only-of-type {\n",
       "        vertical-align: middle;\n",
       "    }\n",
       "\n",
       "    .dataframe tbody tr th {\n",
       "        vertical-align: top;\n",
       "    }\n",
       "\n",
       "    .dataframe thead th {\n",
       "        text-align: right;\n",
       "    }\n",
       "</style>\n",
       "<table border=\"1\" class=\"dataframe\">\n",
       "  <thead>\n",
       "    <tr style=\"text-align: right;\">\n",
       "      <th></th>\n",
       "      <th>text</th>\n",
       "    </tr>\n",
       "    <tr>\n",
       "      <th>gender</th>\n",
       "      <th></th>\n",
       "    </tr>\n",
       "  </thead>\n",
       "  <tbody>\n",
       "    <tr>\n",
       "      <th>male</th>\n",
       "      <td>Robbie E Responds To Critics After Win Against...</td>\n",
       "    </tr>\n",
       "    <tr>\n",
       "      <th>male</th>\n",
       "      <td>ÛÏIt felt like they were my friends and I was...</td>\n",
       "    </tr>\n",
       "    <tr>\n",
       "      <th>male</th>\n",
       "      <td>i absolutely adore when louis starts the songs...</td>\n",
       "    </tr>\n",
       "    <tr>\n",
       "      <th>male</th>\n",
       "      <td>Hi @JordanSpieth - Looking at the url - do you...</td>\n",
       "    </tr>\n",
       "    <tr>\n",
       "      <th>male</th>\n",
       "      <td>Gala Bingo clubs bought for å£241m: The UK's l...</td>\n",
       "    </tr>\n",
       "  </tbody>\n",
       "</table>\n",
       "</div>"
      ],
      "text/plain": [
       "                                                     text\n",
       "gender                                                   \n",
       "male    Robbie E Responds To Critics After Win Against...\n",
       "male    ÛÏIt felt like they were my friends and I was...\n",
       "male    i absolutely adore when louis starts the songs...\n",
       "male    Hi @JordanSpieth - Looking at the url - do you...\n",
       "male    Gala Bingo clubs bought for å£241m: The UK's l..."
      ]
     },
     "execution_count": 6,
     "metadata": {},
     "output_type": "execute_result"
    }
   ],
   "source": [
    "#Step 3: Change index to \"gender\"\n",
    "\n",
    "#First, we change the index to \"gender\" and assign it to another dataframe called \"df2\"\n",
    "#New dataframe is assigned because we need df1 again to answer the second part of this question\n",
    "df2=df1.set_index(\"gender\")\n",
    "\n",
    "#Step 4. Subset rows with \"males\" and later \"females\" \n",
    "\n",
    "#We subset only those \"male\" rows\n",
    "dfm=df2.loc[[\"male\"],[\"text\"]]\n",
    "dfm.head()"
   ]
  },
  {
   "cell_type": "code",
   "execution_count": 7,
   "metadata": {},
   "outputs": [
    {
     "name": "stdout",
     "output_type": "stream",
     "text": [
      "Top 25 most commonly used words used by males:          idf_weights\n",
      "get        3.932405\n",
      "like       3.947673\n",
      "one        4.202069\n",
      "time       4.328820\n",
      "new        4.370206\n",
      "love       4.423230\n",
      "go         4.428193\n",
      "people     4.500389\n",
      "good       4.538541\n",
      "day        4.544112\n",
      "know       4.544112\n",
      "see        4.631631\n",
      "re         4.662594\n",
      "û_         4.668903\n",
      "got        4.675252\n",
      "think      4.688073\n",
      "back       4.707617\n",
      "best       4.734286\n",
      "would      4.747891\n",
      "make       4.747891\n",
      "last       4.761684\n",
      "still      4.797024\n",
      "amp        4.818843\n",
      "need       4.841149\n",
      "ll         4.848696\n"
     ]
    }
   ],
   "source": [
    "#Step 5. Initialize count vectorizer to count number of words (limit stopwords and strings such as http...)\n",
    "\n",
    "#Importing stopwords\n",
    "\n",
    "from nltk.corpus import stopwords\n",
    "list_of_stopwords=list(stopwords.words('english')) #To filter out stopwords from 'text'\n",
    "\n",
    "from sklearn.feature_extraction.text import TfidfTransformer \n",
    "#TF-IDF is a statistical measure that evaluates how relevant a word is to a document in a collection of documents #For reference\n",
    "from sklearn.feature_extraction.text import CountVectorizer\n",
    "#to convert text to a matrix and counts the occurence\n",
    "cv = CountVectorizer(stop_words=[\"https\", \"co\", \"_ù\", 'i',\n",
    "\"i\", \"me\", \"my\", \"myself\", \"we\", \"our\", \"ours\", \"ourselves\", \"you\", \"your\", \"yours\", \"yourself\", \"yourselves\", \"he\", \"him\", \"his\", \"himself\", \"she\", \"her\", \"hers\", \"herself\", \"it\", \"its\", \"itself\", \"they\", \"them\", \"their\", \"theirs\", \"themselves\", \"what\", \"which\", \"who\", \"whom\", \"this\", \"that\", \"these\", \"those\", \"am\", \"is\", \"are\", \"was\", \"were\", \"be\", \"been\", \"being\", \"have\", \"has\", \"had\", \"having\", \"do\", \"does\", \"did\", \"doing\", \"a\", \"an\", \"the\", \"and\", \"but\", \"if\", \"or\", \"because\", \"as\", \"until\", \"while\", \"of\", \"at\", \"by\", \"for\", \"with\", \"about\", \"against\", \"between\", \"into\", \"through\", \"during\", \"before\", \"after\", \"above\", \"below\", \"to\", \"from\", \"up\", \"down\", \"in\", \"out\", \"on\", \"off\", \"over\", \"under\", \"again\", \"further\", \"then\", \"once\", \"here\", \"there\", \"when\", \"where\", \"why\", \"how\", \"all\", \"any\", \"both\", \"each\", \"few\", \"more\", \"most\", \"other\", \"some\", \"such\", \"no\", \"nor\", \"not\", \"only\", \"own\", \"same\", \"so\", \"than\", \"too\", \"very\", \"s\", \"t\", \"can\", \"will\", \"just\", \"don\", \"should\", \"now\"])\n",
    "listoftext=list(dfm['text'])\n",
    "\n",
    "#counts every word in listoftext\n",
    "word_count_vector=cv.fit_transform(listoftext) \n",
    "\n",
    "#compute tf-df--> commonly used words have lower score/ weight\n",
    "tfidf_transformer=TfidfTransformer(smooth_idf=True,use_idf=True) \n",
    "tfidf_transformer.fit(word_count_vector) \n",
    "\n",
    "#store the values in a new dataframe dfm_idf\n",
    "df_idf = pd.DataFrame(tfidf_transformer.idf_, index=cv.get_feature_names(),columns=[\"idf_weights\"]) \n",
    "\n",
    "#sort the values in ascending order, since commonly used words have lessweight\n",
    "df_idf1=df_idf.sort_values(by=['idf_weights'], ascending= True)\n",
    "print(\"Top 25 most commonly used words used by males: \",df_idf1.head(25))"
   ]
  },
  {
   "cell_type": "markdown",
   "metadata": {},
   "source": [
    "#### Part 2: To find the common words used by FEMALES <br> \n",
    "Using similar method "
   ]
  },
  {
   "cell_type": "code",
   "execution_count": 8,
   "metadata": {},
   "outputs": [
    {
     "name": "stdout",
     "output_type": "stream",
     "text": [
      "Top 25 most commonly used words used by females:          idf_weights\n",
      "like       3.791419\n",
      "get        4.001870\n",
      "one        4.060619\n",
      "love       4.079912\n",
      "day        4.140131\n",
      "go         4.237858\n",
      "time       4.346180\n",
      "now        4.376290\n",
      "people     4.402840\n",
      "re         4.487002\n",
      "know       4.496806\n",
      "new        4.511695\n",
      "û_         4.526808\n",
      "ve         4.578903\n",
      "want       4.584265\n",
      "best       4.584265\n",
      "got        4.600526\n",
      "amp        4.611515\n",
      "last       4.617055\n",
      "back       4.668348\n",
      "see        4.722416\n",
      "good       4.728608\n",
      "make       4.734838\n",
      "still      4.734838\n",
      "need       4.779574\n"
     ]
    }
   ],
   "source": [
    "#We subset only those \"female\" rows\n",
    "dff=df2.loc[[\"female\"],[\"text\"]] #We subset only those \"female\" rows\n",
    "cv = CountVectorizer(stop_words=[\"https\", \"i\", \"me\", \"my\", \"myself\", \"we\", \"our\", \"ours\", \"ourselves\", \"you\", \"your\", \"yours\", \"yourself\", \"yourselves\", \"he\", \"him\", \"his\", \"himself\", \"she\", \"her\", \"hers\", \"herself\", \"it\", \"its\", \"itself\", \"they\", \"them\", \"their\", \"theirs\", \"themselves\", \"what\", \"which\", \"who\", \"whom\", \"this\", \"that\", \"these\", \"those\", \"am\", \"is\", \"are\", \"was\", \"were\", \"be\", \"been\", \"being\", \"have\", \"has\", \"had\", \"having\", \"do\", \"does\", \"did\", \"doing\", \"a\", \"an\", \"the\", \"and\", \"but\", \"if\", \"or\", \"because\", \"as\", \"until\", \"while\", \"of\", \"at\", \"by\", \"for\", \"with\", \"about\", \"against\", \"between\", \"into\", \"through\", \"during\", \"before\", \"after\", \"above\", \"below\", \"to\", \"from\", \"up\", \"down\", \"in\", \"out\", \"on\", \"off\", \"over\", \"under\", \"again\", \"further\", \"then\", \"once\", \"here\", \"there\", \"when\", \"where\", \"why\", \"how\", \"all\", \"any\", \"both\", \"each\", \"few\", \"more\", \"most\", \"other\", \"some\", \"such\", \"no\", \"nor\", \"not\", \"only\", \"own\", \"same\", \"so\", \"than\", \"too\", \"very\", \"s\", \"t\", \"can\", \"will\", \"just\", \"don\", \"should\", \"now\"\"https\", \"co\", \"_ù\",])\n",
    "\n",
    "#make a list from dff, of text values\n",
    "listoftext=list(dff['text'])\n",
    "\n",
    "#count vectorize the list\n",
    "word_count_vector=cv.fit_transform(listoftext) \n",
    "\n",
    "#tf-idf transform\n",
    "tfidf_transformer=TfidfTransformer(smooth_idf=True,use_idf=True) \n",
    "tfidf_transformer.fit(word_count_vector) \n",
    "df_idf = pd.DataFrame(tfidf_transformer.idf_, index=cv.get_feature_names(),columns=[\"idf_weights\"]) \n",
    "\n",
    "#sort the values in ascending order, since commonly used words have lessweight\n",
    "df_idf2=df_idf.sort_values(by=['idf_weights'], ascending= True)\n",
    "print(\"Top 25 most commonly used words used by females: \",df_idf2.head(25))"
   ]
  },
  {
   "cell_type": "markdown",
   "metadata": {},
   "source": [
    "###  Data Visualization using plots"
   ]
  },
  {
   "cell_type": "code",
   "execution_count": 9,
   "metadata": {},
   "outputs": [
    {
     "data": {
      "image/png": "[encoded data removed]",
      "text/plain": [
       "<Figure size 432x288 with 1 Axes>"
      ]
     },
     "metadata": {
      "needs_background": "light"
     },
     "output_type": "display_data"
    }
   ],
   "source": [
    "from matplotlib.pyplot import figure\n",
    "import matplotlib.pyplot as plt\n",
    "\n",
    "df_idf2.iloc[0:15].plot()\n",
    "plt.title(\"Common Words used by Females\")\n",
    "plt.xlabel(\"Words\")\n",
    "plt.ylabel(\"Weights\")\n",
    "plt.xticks(rotation=90)\n",
    "\n",
    "\n",
    "plt.gca().invert_yaxis()\n",
    "\n"
   ]
  },
  {
   "cell_type": "code",
   "execution_count": 10,
   "metadata": {},
   "outputs": [
    {
     "data": {
      "image/png": "[encoded data removed]",
      "text/plain": [
       "<Figure size 432x288 with 1 Axes>"
      ]
     },
     "metadata": {
      "needs_background": "light"
     },
     "output_type": "display_data"
    }
   ],
   "source": [
    "df_idf1.iloc[0:15].plot()\n",
    "plt.title(\"Common Words used by Males\")\n",
    "plt.xlabel(\"Words\")\n",
    "plt.ylabel(\"Weights\")\n",
    "plt.xticks(rotation=90)\n",
    "\n",
    "plt.gca().invert_yaxis()\n"
   ]
  },
  {
   "cell_type": "markdown",
   "metadata": {},
   "source": [
    "### Which gender makes more typos?\n",
    "\n",
    "\n",
    "We work with df1, which is the dataframe we get when we follow untill step 2.\n",
    "#### *Approach:* <br>\n",
    "1. Fetch Columns of interest\n",
    "2. Clean data of unwanted values\n",
    "3. Import libraries with correct spellings\n",
    "4. Analyse each row for typos\n",
    "5. If there is a typo, add 1 to a empty variable (str type), if no typo, add a 0\n",
    "6. Append the variable to an empty list, 0s and 1s separated by a comma\n",
    "7. Add the list to the dataframe as a new column"
   ]
  },
  {
   "cell_type": "code",
   "execution_count": 11,
   "metadata": {},
   "outputs": [],
   "source": [
    "from nltk.corpus import names\n",
    "\n",
    "from nltk.corpus import stopwords\n",
    "list_of_stopwords=list(stopwords.words('english'))\n",
    "\n",
    "from nltk.corpus import brown \n",
    "brownlist = brown.words()\n",
    "word_set = set(brownlist)\n",
    "\n",
    "from nltk.tokenize import word_tokenize"
   ]
  },
  {
   "cell_type": "code",
   "execution_count": 12,
   "metadata": {},
   "outputs": [],
   "source": [
    "typos=[]\n",
    "for i in range(df1.shape[0]):\n",
    "    current_text=df['text'].values[i]\n",
    "    tokenized_words=word_tokenize(current_text)\n",
    "    \n",
    "    tokenized_words = [word for word in tokenized_words if word.isalpha()]\n",
    "    \n",
    "    \n",
    "    \n",
    "    clean_words=''\n",
    "    for word in tokenized_words:\n",
    "        \n",
    "        if word not in set(names.words()) not in set(list_of_stopwords) and word.startswith(\"//\")==False and word.startswith(\"https\")==False and word not in word_set and word.startswith(\"#\")==False and word.startswith(\"@\")==False:\n",
    "            clean_words = 1\n",
    "        else:\n",
    "            clean_words= 0\n",
    "    typos.append(clean_words)\n"
   ]
  },
  {
   "cell_type": "code",
   "execution_count": 13,
   "metadata": {},
   "outputs": [
    {
     "data": {
      "text/html": [
       "<div>\n",
       "<style scoped>\n",
       "    .dataframe tbody tr th:only-of-type {\n",
       "        vertical-align: middle;\n",
       "    }\n",
       "\n",
       "    .dataframe tbody tr th {\n",
       "        vertical-align: top;\n",
       "    }\n",
       "\n",
       "    .dataframe thead th {\n",
       "        text-align: right;\n",
       "    }\n",
       "</style>\n",
       "<table border=\"1\" class=\"dataframe\">\n",
       "  <thead>\n",
       "    <tr style=\"text-align: right;\">\n",
       "      <th></th>\n",
       "      <th>text</th>\n",
       "      <th>gender</th>\n",
       "      <th>typos</th>\n",
       "    </tr>\n",
       "    <tr>\n",
       "      <th>_unit_id</th>\n",
       "      <th></th>\n",
       "      <th></th>\n",
       "      <th></th>\n",
       "    </tr>\n",
       "  </thead>\n",
       "  <tbody>\n",
       "    <tr>\n",
       "      <th>815719226</th>\n",
       "      <td>Robbie E Responds To Critics After Win Against...</td>\n",
       "      <td>male</td>\n",
       "      <td>0</td>\n",
       "    </tr>\n",
       "    <tr>\n",
       "      <th>815719227</th>\n",
       "      <td>ÛÏIt felt like they were my friends and I was...</td>\n",
       "      <td>male</td>\n",
       "      <td>0</td>\n",
       "    </tr>\n",
       "    <tr>\n",
       "      <th>815719228</th>\n",
       "      <td>i absolutely adore when louis starts the songs...</td>\n",
       "      <td>male</td>\n",
       "      <td>0</td>\n",
       "    </tr>\n",
       "    <tr>\n",
       "      <th>815719229</th>\n",
       "      <td>Hi @JordanSpieth - Looking at the url - do you...</td>\n",
       "      <td>male</td>\n",
       "      <td>0</td>\n",
       "    </tr>\n",
       "    <tr>\n",
       "      <th>815719230</th>\n",
       "      <td>Watching Neighbours on Sky+ catching up with t...</td>\n",
       "      <td>female</td>\n",
       "      <td>1</td>\n",
       "    </tr>\n",
       "  </tbody>\n",
       "</table>\n",
       "</div>"
      ],
      "text/plain": [
       "                                                        text  gender typos\n",
       "_unit_id                                                                  \n",
       "815719226  Robbie E Responds To Critics After Win Against...    male     0\n",
       "815719227  ÛÏIt felt like they were my friends and I was...    male     0\n",
       "815719228  i absolutely adore when louis starts the songs...    male     0\n",
       "815719229  Hi @JordanSpieth - Looking at the url - do you...    male     0\n",
       "815719230  Watching Neighbours on Sky+ catching up with t...  female     1"
      ]
     },
     "execution_count": 13,
     "metadata": {},
     "output_type": "execute_result"
    }
   ],
   "source": [
    "df1[\"typos\"]=typos\n",
    "df1.head()"
   ]
  },
  {
   "cell_type": "code",
   "execution_count": 14,
   "metadata": {},
   "outputs": [
    {
     "data": {
      "text/plain": [
       "gender\n",
       "female    1244\n",
       "male      1192\n",
       "Name: typos, dtype: int64"
      ]
     },
     "execution_count": 14,
     "metadata": {},
     "output_type": "execute_result"
    }
   ],
   "source": [
    "df1['typos'].replace('', 0, inplace=True)\n",
    "##2 blank values were manually checked and changed to 0 (ie no typo)\n",
    "\n",
    "#Shows number of typos by gender\n",
    "df1.groupby('gender')[\"typos\"].sum() "
   ]
  },
  {
   "cell_type": "markdown",
   "metadata": {},
   "source": [
    "#### Data Visualization"
   ]
  },
  {
   "cell_type": "code",
   "execution_count": 16,
   "metadata": {},
   "outputs": [
    {
     "data": {
      "image/png": "[encoded data removed]",
      "text/plain": [
       "<Figure size 432x288 with 1 Axes>"
      ]
     },
     "metadata": {
      "needs_background": "light"
     },
     "output_type": "display_data"
    }
   ],
   "source": [
    "x=[\"male\", \"female\"]\n",
    "y=[1192, 1244]\n",
    "\n",
    "#Setting y limits for better visualization\n",
    "plt.ylim(1000,1300) \n",
    "\n",
    "plt.bar(x,y)\n",
    "\n",
    "\n",
    "plt.xlabel(\"Number of Typos\")\n",
    "plt.title(\"Typos made per gender\")\n",
    "plt.show()"
   ]
  },
  {
   "cell_type": "markdown",
   "metadata": {},
   "source": [
    "#####  Based on graphs, the gender that it more likely to make typos is - Female"
   ]
  },
  {
   "cell_type": "code",
   "execution_count": null,
   "metadata": {},
   "outputs": [],
   "source": []
  }
 ],
 "metadata": {
  "kernelspec": {
   "display_name": "Python 3",
   "language": "python",
   "name": "python3"
  },
  "language_info": {
   "codemirror_mode": {
    "name": "ipython",
    "version": 3
   },
   "file_extension": ".py",
   "mimetype": "text/x-python",
   "name": "python",
   "nbconvert_exporter": "python",
   "pygments_lexer": "ipython3",
   "version": "3.8.3"
  }
 },
 "nbformat": 4,
 "nbformat_minor": 4
}
